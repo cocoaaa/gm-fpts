{
 "cells": [
  {
   "cell_type": "code",
   "execution_count": 1,
   "id": "7d9f541e-a4c5-408b-aa25-c26fefe62b5c",
   "metadata": {
    "tags": []
   },
   "outputs": [
    {
     "name": "stdout",
     "output_type": "stream",
     "text": [
      "ID of assigned GPU:  0\n"
     ]
    }
   ],
   "source": [
    "import os,sys\n",
    "from pathlib import Path\n",
    "from typing import Any,List, Set, Dict, Tuple, Optional, Iterable, Mapping, Union, Callable, TypeVar, cast\n",
    "\n",
    "import time\n",
    "from datetime import datetime\n",
    "from collections import OrderedDict\n",
    "from functools import partial\n",
    "\n",
    "# data or cache IO\n",
    "import json\n",
    "import joblib\n",
    "\n",
    "# print, debug\n",
    "from pprint import pprint\n",
    "from IPython.display import display, HTML # for pretty-print pandas dataframe\n",
    "from IPython.core.debugger import set_trace\n",
    "\n",
    "sys.dont_write_bytecode = True\n",
    "\n",
    "\n",
    "\n",
    "# numpy and friends\n",
    "import numpy as np\n",
    "import pandas as pd\n",
    "import matplotlib.pyplot as plt\n",
    "from PIL import Image\n",
    "\n",
    "\n",
    "# torch imports\n",
    "import torch \n",
    "import torch.nn as nn\n",
    "import torch.nn.functional as F\n",
    "import torch.optim as optim\n",
    "from  torch.linalg import norm as tnorm\n",
    "from torch.utils.data import Dataset, DataLoader, random_split\n",
    "import torchvision\n",
    "from torchvision import datasets, transforms\n",
    "import torchvision.utils as vutils\n",
    "\n",
    "# Pytorch-lightning\n",
    "import pytorch_lightning as pl\n",
    "from pytorch_lightning.core  import LightningModule\n",
    "from pytorch_lightning import loggers as pl_loggers\n",
    "from pytorch_lightning.tuner.tuning import Tuner\n",
    "from pytorch_lightning.callbacks import Callback\n",
    "\n",
    "# Select Visible GPU\n",
    "os.environ[\"CUDA_DEVICE_ORDER\"]=\"PCI_BUS_ID\" \n",
    "print(\"ID of assigned GPU: \", os.environ[\"CUDA_VISIBLE_DEVICES\"])\n",
    "# os.environ[\"CUDA_VISIBLE_DEVICES\"]=\"0\"\n",
    "DEVICE = torch.device(\"cuda\" if torch.cuda.is_available() else \"cpu\")\n",
    "\n",
    "# Reprlearn\n",
    "from reprlearn.visualize.utils import get_fig, show_timg, show_timgs, show_npimgs, show_batch \n",
    "from reprlearn.utils.misc import info, now2str, get_first_img_info, count_imgs\n",
    "\n",
    "# import artifact compute functions\n",
    "from reprlearn.utils.fpts import estimate_projection, compute_artifacts, compute_artifact\n",
    "from reprlearn.utils.fpts import estimate_projection_fp #, compute_artifacts, compute_artifact\n",
    "\n",
    "# GLOBALS:\n",
    "# === Path to experiment dataset (GM256)\n",
    "SSD_HOME = Path(os.environ.get('myssd', '~'))\n",
    "TMPDIR = Path(os.environ['TMPDIR'])\n",
    "              \n",
    "# -- Move data to cluster's compute node\n",
    "# srcdir = SSD_HOME / 'Datasets/gm256_from_arya'\n",
    "# dstdir = TMPDIR \n",
    "# !rsync -aznP {str(srcdir)} {str(dstdir)}\n",
    "\n",
    "# -- Data root-dir in compute node\n",
    "# DATA_ROOT = SSD_HOME / 'Datasets/gm256_from_arya'    # if rsync is not yet done\n",
    "DATA_ROOT = TMPDIR / 'gm256_from_arya'                 # elif rsync is done\n",
    "REAL_DATA_DIR = DATA_ROOT / 'real-celebahq256'\n",
    "\n",
    "# === Verify\n",
    "assert DATA_ROOT.exists()\n",
    "# print('Subdirs: ')\n",
    "# !ls {DATA_ROOT}\n",
    "\n",
    "# print('\\nNum. real datapts: ')\n",
    "# !ls {REAL_DATA_DIR} | wc -l\n",
    "\n"
   ]
  },
  {
   "cell_type": "code",
   "execution_count": 12,
   "id": "3255f351-af4f-46e4-8b53-a35c23b3a340",
   "metadata": {
    "tags": []
   },
   "outputs": [
    {
     "name": "stdout",
     "output_type": "stream",
     "text": [
      "19\n",
      "df-train-0-1297-with-proj-rgb-gm256-onek-from-15-a-artRGB-trainset-20230427-123205.csv\n",
      "df-train-1000-1599-with-proj-rgb-gm256-onek-20230427-150811.csv\n",
      "df-train-10000-10499-with-proj-rgb-gm256-onek-20230427-144225.csv\n",
      "df-train-10500-10549-with-proj-rgb-gm256-onek-20230428-041323.csv\n",
      "df-train-11000-11899-with-proj-rgb-gm256-onek-20230428-092220.csv\n",
      "df-train-12000-12499-with-proj-rgb-gm256-onek-20230427-145937.csv\n",
      "df-train-12500-12699-with-proj-rgb-gm256-onek-20230428-063306.csv\n",
      "df-train-13000-13499-with-proj-rgb-gm256-onek-20230428-063844.csv\n",
      "df-train-2000-2099-with-proj-rgb-gm256-onek-20230428-010752.csv\n",
      "df-train-3000-3499-with-proj-rgb-gm256-onek-20230427-135603.csv\n",
      "df-train-3500-3549-with-proj-rgb-gm256-onek-20230428-040816.csv\n",
      "df-train-4000-4999-with-proj-rgb-gm256-onek-20230427-025352.csv\n",
      "df-train-5000-5499-with-proj-rgb-gm256-onek-20230427-141205.csv\n",
      "df-train-5500-5549-with-proj-rgb-gm256-onek-20230428-040935.csv\n",
      "df-train-6000-6499-with-proj-rgb-gm256-onek-20230427-142139.csv\n",
      "df-train-6500-6599-with-proj-rgb-gm256-onek-20230428-053335.csv\n",
      "df-train-7000-7049-with-proj-rgb-gm256-onek-20230427-234020.csv\n",
      "df-train-9000-9499-with-proj-rgb-gm256-onek-20230427-143832.csv\n",
      "df-train-9500-9649-with-proj-rgb-gm256-onek-20230428-061044.csv\n"
     ]
    }
   ],
   "source": [
    "# concat df's\n",
    "# train \n",
    "\n",
    "df_dir = Path('./Outputs/dfs_with_proj_rgb_compiled_20230428/')\n",
    "\n",
    "df_train_fps = []\n",
    "for fp in df_dir.iterdir():\n",
    "    if fp.is_file() and fp.name.startswith('df-train-'):\n",
    "        df_train_fps.append(fp)\n",
    "        \n",
    "print(len(df_train_fps))\n",
    "df_train_fps = sorted(df_train_fps)\n",
    "[print(fp.name) for fp in df_train_fps];\n",
    "\n"
   ]
  },
  {
   "cell_type": "code",
   "execution_count": null,
   "id": "354fcb0c-6591-466f-94cd-396de32e4e6d",
   "metadata": {},
   "outputs": [],
   "source": []
  }
 ],
 "metadata": {
  "kernelspec": {
   "display_name": "Python [conda env:torch-cuda118]",
   "language": "python",
   "name": "conda-env-torch-cuda118-py"
  },
  "language_info": {
   "codemirror_mode": {
    "name": "ipython",
    "version": 3
   },
   "file_extension": ".py",
   "mimetype": "text/x-python",
   "name": "python",
   "nbconvert_exporter": "python",
   "pygments_lexer": "ipython3",
   "version": "3.8.16"
  }
 },
 "nbformat": 4,
 "nbformat_minor": 5
}
