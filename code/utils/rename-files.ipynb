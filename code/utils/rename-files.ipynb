{
 "cells": [
  {
   "cell_type": "code",
   "execution_count": 2,
   "id": "c2875cc8-fb01-424f-97fb-5b74ada34438",
   "metadata": {
    "tags": []
   },
   "outputs": [],
   "source": [
    "import os,sys\n",
    "from pathlib import Path\n",
    "from typing import Any,List, Set, Dict, Tuple, Optional, Iterable, Mapping, Union, Callable, TypeVar, cast\n",
    "\n",
    "import time\n",
    "from datetime import datetime\n",
    "from collections import OrderedDict\n",
    "from functools import partial\n",
    "\n",
    "# data or cache IO\n",
    "import json\n",
    "import joblib\n",
    "\n",
    "# print, debug\n",
    "from pprint import pprint\n",
    "from IPython.display import display, HTML # for pretty-print pandas dataframe\n",
    "from IPython.core.debugger import set_trace\n",
    "\n",
    "sys.dont_write_bytecode = True\n",
    "\n",
    "# numpy and friends\n",
    "import numpy as np\n",
    "import pandas as pd\n",
    "import matplotlib.pyplot as plt\n",
    "from PIL import Image\n",
    "\n",
    "\n",
    "# # Select Visible GPU\n",
    "# os.environ[\"CUDA_DEVICE_ORDER\"]=\"PCI_BUS_ID\" \n",
    "# os.environ[\"CUDA_VISIBLE_DEVICES\"]=\"0\"\n",
    "# DEVICE = torch.device(\"cuda\" if torch.cuda.is_available() else \"cpu\")\n",
    "\n",
    "# Reprlearn\n",
    "from reprlearn.visualize.utils import get_fig, show_timg, show_timgs, show_npimgs, show_batch \n",
    "from reprlearn.utils.misc import info, now2str, get_first_img_info, count_imgs\n",
    "from reprlearn.utils.misc import is_valid_dir, is_img_fp\n",
    "\n",
    "\n",
    "\n"
   ]
  },
  {
   "cell_type": "markdown",
   "id": "d35f77a7-23b6-4e3a-aeaf-5aca68d0f423",
   "metadata": {
    "tags": []
   },
   "source": [
    "## Simple rename (move) operation"
   ]
  },
  {
   "cell_type": "code",
   "execution_count": 2,
   "id": "f2604e0e-f655-4931-b5f6-edcc248f5e1a",
   "metadata": {},
   "outputs": [],
   "source": [
    "# move files to a target dir\n",
    "# from pathlib import Path\n",
    "\n",
    "# root = Path(\"/path/to/your/root/dir\")\n",
    "\n",
    "# for file in root.glob(\"*.pdf\"):\n",
    "#     folder_name = file.stem.rpartition(\"_\")[-1]\n",
    "    # file.rename(root / folder_name / file.name)\n",
    "\n",
    "\n",
    "root = Path(\"xxx\")\n",
    "model_name = 'vae-nvae'\n",
    "target_dir = root/model_name\n",
    "assert target_dir.exists()\n",
    "\n",
    "\n"
   ]
  },
  {
   "cell_type": "code",
   "execution_count": 8,
   "id": "3a081e2b-9ada-487c-a5af-3d802cd7d02f",
   "metadata": {},
   "outputs": [
    {
     "name": "stdout",
     "output_type": "stream",
     "text": [
      "Done renaming: 49998 files\n"
     ]
    }
   ],
   "source": [
    "skipped = [] \n",
    "n_done = 0\n",
    "for fp in root.iterdir():\n",
    "    if fp.is_dir() or not fp.suffix.lower() == '.png':\n",
    "        skipped.append(fp)\n",
    "        continue\n",
    "    # print(fp)\n",
    "    new_fp = target_dir / fp.name \n",
    "    fp.rename(new_fp)\n",
    "    # print(new_fp)\n",
    "    n_done += 1\n",
    "    \n",
    "\n",
    "print(f'Done renaming: {n_done} files')\n",
    "        "
   ]
  },
  {
   "cell_type": "markdown",
   "id": "9628f6e1-8bb1-4557-9c1b-7701a61d4184",
   "metadata": {},
   "source": [
    "## Add a prefix to each images in a folder\n",
    "- date: 20230911-171948\n",
    "- usage: use this script to make each sampling run's output image's filenames unique across different runs, by adding each run's unique run_id to the files genearted in that run\n",
    "- Log:\n",
    "  - i use it before collagating all image files genearted by 3 different sampling runs of `score-ldm` model\n",
    "  "
   ]
  },
  {
   "cell_type": "code",
   "execution_count": 21,
   "id": "a72f1f67-75cd-4972-8903-cfe26cd39cbe",
   "metadata": {},
   "outputs": [
    {
     "name": "stdout",
     "output_type": "stream",
     "text": [
      "run_id: 20230828172610\n"
     ]
    }
   ],
   "source": [
    "img_dir = Path(\"xxx\")\n",
    "run_id = ''.join(img_dir.parent.stem.split('-'))\n",
    "print(f'run_id: {run_id}')"
   ]
  },
  {
   "cell_type": "code",
   "execution_count": 24,
   "id": "52094473-b487-4580-b508-900a8159777a",
   "metadata": {},
   "outputs": [
    {
     "name": "stdout",
     "output_type": "stream",
     "text": [
      "Done: 3630 files renamed\n"
     ]
    }
   ],
   "source": [
    "# add this run_id to each img file's name\n",
    "n_done = 0\n",
    "prefix = run_id\n",
    "for fp in img_dir.iterdir():\n",
    "    if not is_img_fp(fp):\n",
    "        continue\n",
    "    # if n_done > 10: #debug\n",
    "    #     break \n",
    "    new_name = f\"{prefix}_{fp.name}\"\n",
    "    new_fp = fp.parent / new_name\n",
    "    # print(fp)\n",
    "    # print(new_fp)\n",
    "    # print('')\n",
    "    \n",
    "    #===!!! do rename operation:\n",
    "    fp.rename(new_fp)\n",
    "    n_done += 1\n",
    "    \n",
    "print(f'Done: {n_done} files renamed')\n",
    "    "
   ]
  },
  {
   "cell_type": "code",
   "execution_count": 36,
   "id": "9a4f7b35-1336-4fe0-ad6a-5feff76393d5",
   "metadata": {},
   "outputs": [],
   "source": [
    "# todo: incorporate this to reprlearn library\n",
    "def add_prefix_to_each_filename(img_dir: Path,\n",
    "                                prefix: str,\n",
    "                                is_valid_fp: Optional[Callable]=None,\n",
    "                                is_dryrun: Optional[bool]=False,\n",
    "                                debug: Optional[bool]=False,\n",
    "                               )-> None:\n",
    "    is_valid_fp = is_valid_fp or is_img_fp\n",
    "    \n",
    "    n_done = 0\n",
    "    for fp in img_dir.iterdir():\n",
    "        if not is_valid_fp(fp):\n",
    "            continue\n",
    "\n",
    "        new_name = f\"{prefix}_{fp.name}\"\n",
    "        new_fp = fp.parent / new_name\n",
    "        \n",
    "        if debug:\n",
    "            print(f'\\noriginal fp: {fp}')\n",
    "            print(f'new fp: {new_fp}')\n",
    "            if n_done >= 10:\n",
    "                break \n",
    "\n",
    "        #===!!! do rename operation:\n",
    "        if not is_dryrun:\n",
    "            fp.rename(new_fp)\n",
    "            pass\n",
    "        n_done += 1\n",
    "\n",
    "    print(f'Done: {n_done} files renamed') "
   ]
  },
  {
   "cell_type": "markdown",
   "id": "f99f006e-5de3-4384-8503-afe1dccc406b",
   "metadata": {},
   "source": [
    "### Apply the prefix-adding to images in VQGAN-genearted images in the following two dirs:\n"
   ]
  },
  {
   "cell_type": "markdown",
   "id": "11059633-3193-4e59-bee2-379f5ad8b393",
   "metadata": {},
   "source": [
    "#### First dir"
   ]
  },
  {
   "cell_type": "code",
   "execution_count": 37,
   "id": "c615a537-3fad-42ed-b6d8-8abb3615eb5d",
   "metadata": {},
   "outputs": [
    {
     "name": "stdout",
     "output_type": "stream",
     "text": [
      "Done: 2870 files renamed\n"
     ]
    }
   ],
   "source": [
    "img_dir = Path(\n",
    "    \"xxx\"\n",
    ")\n",
    "prefix = \"20230904-141326\"\n",
    "\n",
    "add_prefix_to_each_filename(\n",
    "    img_dir=img_dir,\n",
    "    prefix=prefix,\n",
    "    is_valid_fp=is_img_fp,\n",
    "    # is_dryrun=True,\n",
    "    # debug=True\n",
    ")\n"
   ]
  },
  {
   "cell_type": "code",
   "execution_count": 38,
   "id": "7bfcbda7-5980-4b9d-a42d-5d8de7aadb9f",
   "metadata": {},
   "outputs": [
    {
     "name": "stdout",
     "output_type": "stream",
     "text": [
      "20230904-141326_000000.png\n",
      "20230904-141326_000001.png\n",
      "20230904-141326_000002.png\n",
      "20230904-141326_000003.png\n",
      "20230904-141326_000004.png\n",
      "20230904-141326_000005.png\n",
      "20230904-141326_000006.png\n",
      "20230904-141326_000007.png\n",
      "20230904-141326_000008.png\n",
      "20230904-141326_000009.png\n",
      "ls: write error: Broken pipe\n"
     ]
    }
   ],
   "source": [
    "# check the prefix is appeneded\n",
    "!ls {img_dir} | head "
   ]
  }
 ],
 "metadata": {
  "kernelspec": {
   "display_name": "Python [conda env:torch-cuda118]",
   "language": "python",
   "name": "conda-env-torch-cuda118-py"
  },
  "language_info": {
   "codemirror_mode": {
    "name": "ipython",
    "version": 3
   },
   "file_extension": ".py",
   "mimetype": "text/x-python",
   "name": "python",
   "nbconvert_exporter": "python",
   "pygments_lexer": "ipython3",
   "version": "3.8.16"
  }
 },
 "nbformat": 4,
 "nbformat_minor": 5
}
