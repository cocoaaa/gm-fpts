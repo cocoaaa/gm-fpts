{
 "cells": [
  {
   "cell_type": "markdown",
   "id": "cd525074",
   "metadata": {},
   "source": [
    "## Load libraries"
   ]
  },
  {
   "cell_type": "code",
   "execution_count": null,
   "id": "46943ef6",
   "metadata": {},
   "outputs": [],
   "source": [
    "%reload_ext autoreload\n",
    "%autoreload 2\n",
    "%matplotlib inline"
   ]
  },
  {
   "cell_type": "code",
   "execution_count": null,
   "id": "01494e9f",
   "metadata": {},
   "outputs": [],
   "source": [
    "import os,sys\n",
    "import re\n",
    "import math\n",
    "from datetime import datetime\n",
    "import time\n",
    "from collections import OrderedDict\n",
    "from functools import partial\n",
    "sys.dont_write_bytecode = True\n",
    "from IPython.core.debugger import set_trace"
   ]
  },
  {
   "cell_type": "code",
   "execution_count": null,
   "id": "092f709b",
   "metadata": {},
   "outputs": [],
   "source": [
    "import json\n",
    "import pandas as pd\n",
    "import joblib\n",
    "import numpy as np\n",
    "import matplotlib.pyplot as plt\n",
    "from PIL import Image\n",
    "\n",
    "from pathlib import Path\n",
    "from typing import Any,List, Set, Dict, Tuple, Optional, Iterable, Mapping, Union, Callable, TypeVar\n",
    "\n",
    "from pprint import pprint\n",
    "from tqdm import tqdm"
   ]
  },
  {
   "cell_type": "code",
   "execution_count": null,
   "id": "368e0cf7",
   "metadata": {},
   "outputs": [],
   "source": [
    "import torch \n",
    "import torch.nn as nn\n",
    "import torch.nn.functional as F\n",
    "import torch.optim as optim\n",
    "from  torch.linalg import norm as tnorm\n",
    "from torch.utils.data import Dataset, DataLoader, random_split\n",
    "import torchvision\n",
    "from torchvision import datasets, transforms\n",
    "from torchvision.utils import save_image, make_grid\n",
    "\n",
    "# import pytorch_lightning as pl\n",
    "# from pytorch_lightning.core.lightning import LightningModule\n",
    "# from pytorch_lightning import loggers as pl_loggers\n",
    "# from pytorch_lightning.tuner.tuning import Tuner\n",
    "# from pytorch_lightning.callbacks import Callback\n",
    "\n",
    "# Select Visible GPU\n",
    "os.environ[\"CUDA_DEVICE_ORDER\"]=\"PCI_BUS_ID\" \n",
    "os.environ[\"CUDA_VISIBLE_DEVICES\"]=\"-1\"\n",
    "DEVICE = torch.device(\"cuda\" if torch.cuda.is_available() else \"cpu\")\n"
   ]
  },
  {
   "cell_type": "code",
   "execution_count": null,
   "id": "9cbe27db",
   "metadata": {},
   "outputs": [],
   "source": [
    "import reprlearn as rl"
   ]
  },
  {
   "cell_type": "code",
   "execution_count": null,
   "id": "5aebec07",
   "metadata": {},
   "outputs": [],
   "source": [
    "from reprlearn.visualize.utils import get_fig, show_timg, show_timgs, show_npimgs, show_batch, make_grid_from_tensors\n",
    "from reprlearn.utils.misc import info, now2str, today2str, get_next_version_path, n_iter_per_epoch\n"
   ]
  },
  {
   "cell_type": "markdown",
   "id": "ac5034d1",
   "metadata": {
    "heading_collapsed": "true"
   },
   "source": [
    "## Path to data root dirs\n",
    "  "
   ]
  },
  {
   "cell_type": "code",
   "execution_count": null,
   "id": "80944eef",
   "metadata": {},
   "outputs": [],
   "source": [
    "exp_data_root = Path(\"/xxxx\")\n",
    "print(\"data_root: \", str(exp_data_root))\n",
    "print(\"exists?: \", exp_data_root.exists())"
   ]
  },
  {
   "cell_type": "markdown",
   "id": "f8b31eb5",
   "metadata": {},
   "source": [
    "## Colorbar: Visualize fft spectra of GMs; abs-diff spectra\n"
   ]
  },
  {
   "cell_type": "code",
   "execution_count": null,
   "id": "ae12ed82",
   "metadata": {},
   "outputs": [],
   "source": [
    "\n",
    "fft_dir_root = exp_data_root.parent / 'GM256_fft'\n",
    "\n",
    "# Load precomputed:\n",
    "precomputed_dict_ffts_fp = '/data/xxxx/dict-avg-ffts-my-all-pass.pkl'\n",
    "precomputed_dict_ffts_fp = '/data/xxxx/dict-avg-ffts-my-all-pass.pkl'\n",
    "dict_avg_ffts = joblib.load(precomputed_dict_ffts_fp)\n",
    "\n",
    "\n",
    "# If no precomputed: \n",
    "# compute it and pickle the dict_avg_ffts\n",
    "# --- Run this --- \n",
    "# dict_avg_ffts = load_and_compute_avg_fft_all_subdirs(\n",
    "\n",
    "#     fft_dir_root=fft_dir_root\n",
    "# )\n",
    "# store the dict as pickle:\n",
    "# joblib.dump(dict_avg_ffts, f\"./dict-avg-ffts-my-all-pass-{now2str()}.pkl\")\n"
   ]
  },
  {
   "cell_type": "markdown",
   "id": "5d212cef",
   "metadata": {},
   "source": [
    "- Show avg-spectrum of each GM"
   ]
  },
  {
   "cell_type": "code",
   "execution_count": null,
   "id": "d825a8b2",
   "metadata": {},
   "outputs": [],
   "source": [
    "# show a spectrum in the dictionary of k:v = model_name: avg_fft\n",
    "# todo: note each iamge are normalized independently \n",
    "# - we should probably fix a colorbar consistent over all plots..\n",
    "show_npimgs(\n",
    "    npimgs=list(\n",
    "        map(lambda x: np.log(x + 1e-12),\n",
    "            list(dict_avg_ffts.values()) )\n",
    "    ),\n",
    "    titles=list(dict_avg_ffts.keys())\n",
    ");"
   ]
  },
  {
   "cell_type": "code",
   "execution_count": null,
   "id": "6d5e9b15",
   "metadata": {},
   "outputs": [],
   "source": [
    "# alternatively:\n",
    "from reprlearn.visualize.utils import get_fig\n",
    "\n",
    "\n",
    "# dict_arrs = dict_avg_ffts\n",
    "dict_arrs = dict_abs_diff_ffts\n",
    "\n",
    "n_arrs = len(dict_arrs)\n",
    "names = np.array(list(dict_arrs.keys()))\n",
    "nparrs = np.array(list(\n",
    "    map(to_logscale, dict_arrs.values())\n",
    "))\n",
    "print(names)\n",
    "print(nparrs.shape)\n"
   ]
  },
  {
   "cell_type": "code",
   "execution_count": null,
   "id": "24689cc2",
   "metadata": {},
   "outputs": [],
   "source": [
    "fig, axes = get_fig(n_arrs)"
   ]
  },
  {
   "cell_type": "markdown",
   "id": "2d6ce700",
   "metadata": {},
   "source": [
    "- Show abs-diff of spectrum from fft_real"
   ]
  },
  {
   "cell_type": "code",
   "execution_count": null,
   "id": "9a118c83",
   "metadata": {},
   "outputs": [],
   "source": [
    "# show abs-diff from fft_real\n",
    "avg_fft_real = dict_avg_ffts['real-celebahq256']\n",
    "\n",
    "# helpers\n",
    "def to_logscale(arr: np.ndarray,\n",
    "               eps: Optional[float]=1e-12) -> np.ndarray:\n",
    "    return np.log( np.abs(arr) + 1e-12)\n",
    "\n",
    "def compute_abs_diff(arr1: np.ndarray, arr2: np.ndarray) -> np.ndarray:  #Tuple[np.ndarray, float]:\n",
    "    abs_diff = np.abs(arr1-arr2)\n",
    "#     l2_dist = np.sum(abs_diff ** 2)\n",
    "    return np.abs(arr1-arr2)# , l2_dist\n",
    "\n",
    "\n",
    "    "
   ]
  },
  {
   "cell_type": "code",
   "execution_count": null,
   "id": "a3deb934",
   "metadata": {},
   "outputs": [],
   "source": [
    "# compute abs( fft_gm - fft_real) (abs. different of avg fft's)\n",
    "# note: all frequences are there, ie not high-pass only\n",
    "# precomputed_abs_diff_ffts_fp = '/data/xxx/dict-abs-diff-ffts-my-all-pass.pkl'\n",
    "\n",
    "dict_abs_diff_ffts = {}\n",
    "for model_name, avg_fft in dict_avg_ffts.items():\n",
    "    dict_abs_diff_ffts[model_name] = compute_abs_diff(avg_fft, avg_fft_real)\n",
    "# store the dict as pickle:\n",
    "# joblib.dump(dict_abs_diff_ffts, \"./dict-abs-diff-ffts-my-all-pass.pkl\")\n",
    "\n"
   ]
  },
  {
   "cell_type": "code",
   "execution_count": null,
   "id": "4d0bb136",
   "metadata": {},
   "outputs": [],
   "source": [
    "from IPython.core.debugger import set_trace as breakpoint"
   ]
  },
  {
   "cell_type": "code",
   "execution_count": null,
   "id": "9e26df85",
   "metadata": {},
   "outputs": [],
   "source": [
    "def show_dict_of_arrs(d_arrays: Dict[str,np.ndarray],\n",
    "                      transform: Optional[Callable]=None,\n",
    "                     ) -> Tuple[plt.Figure, plt.Axes]:                 \n",
    "    npimgs = d_arrays.values()\n",
    "    if transform is not None:\n",
    "        npimgs = list(map(transform, npimgs))\n",
    "        \n",
    "        #debug\n",
    "        for npimg in npimgs:\n",
    "            print('min, max: ', npimg.min(), npimg.max())\n",
    "#         breakpoint()\n",
    "        \n",
    "    return show_npimgs(npimgs,\n",
    "                        titles=list(d_arrays.keys())\n",
    "                       )\n",
    "    \n",
    "    "
   ]
  },
  {
   "cell_type": "code",
   "execution_count": null,
   "id": "1acdce04",
   "metadata": {},
   "outputs": [],
   "source": [
    "# show_npimgs(\n",
    "#     npimgs=list(\n",
    "#         map(lambda x: np.log(x + 1e-12),\n",
    "#             list(dict_abs_diff_ffts.values()) )\n",
    "#     ),\n",
    "#     titles=list(dict_abs_diff_ffts.keys())\n",
    "# );\n",
    "\n",
    "#same: \n",
    "show_dict_of_arrs(dict_abs_diff_ffts,\n",
    "                  transform=to_logscale);"
   ]
  },
  {
   "cell_type": "code",
   "execution_count": null,
   "id": "f5fd4597",
   "metadata": {},
   "outputs": [],
   "source": [
    "def get_positive_min_max(d: Dict) -> Tuple[float, float]:\n",
    "    vals = np.array(list(d.values()))\n",
    "    vals = np.ma.masked_less_equal(vals, 0, copy=False)\n",
    "    \n",
    "#     print('d: ', d)\n",
    "#     print('vals: ', vals)\n",
    "    return vals.min(), vals.max()\n",
    "                    "
   ]
  },
  {
   "cell_type": "code",
   "execution_count": null,
   "id": "aba203f8",
   "metadata": {},
   "outputs": [],
   "source": [
    "from reprlearn.visualize.utils import show_dict_with_colorbar\n",
    "\n",
    "\n",
    "def plot_dict_spectra_logscale(dict_to_show, cmap=None, **kwargs):\n",
    "\n",
    "    vmin, vmax = get_positive_min_max(dict_to_show)\n",
    "    normalizer = colors.LogNorm(\n",
    "        vmin=vmin,\n",
    "        vmax=vmax,\n",
    "        clip=False #shouldn't matter whether set to t/f\n",
    "    )\n",
    "    print('vmin, vmax: ', normalizer.vmin, normalizer.vmax)\n",
    "    print('vmin, vmax are set? :', normalizer.scaled())\n",
    "\n",
    "\n",
    "    show_dict_with_colorbar(dict_to_show, normalizer=normalizer, cmap=cmap,\n",
    "                           **kwargs);"
   ]
  },
  {
   "cell_type": "markdown",
   "id": "8f02e367",
   "metadata": {},
   "source": [
    "### Demo:"
   ]
  },
  {
   "cell_type": "markdown",
   "id": "781bd47a",
   "metadata": {},
   "source": [
    "- Plot avgerage-spectra of each gm (allpass)  in logscale, with colorbar set consistently over all axes"
   ]
  },
  {
   "cell_type": "markdown",
   "id": "d9183fad",
   "metadata": {},
   "source": [
    "1.  Plot abs-diff ffts in logscale, with colorbar set consistently over all axes"
   ]
  },
  {
   "cell_type": "code",
   "execution_count": null,
   "id": "aefcfb1f",
   "metadata": {},
   "outputs": [],
   "source": [
    "plot_dict_spectra_logscale(dict_abs_diff_ffts)"
   ]
  },
  {
   "cell_type": "code",
   "execution_count": null,
   "id": "de66e244",
   "metadata": {},
   "outputs": [],
   "source": [
    "# 2. show avg-magnitude-of-spectrum for each gm\n",
    "# (not abs-diffs of magnitude-spectra)\n",
    "dict_avg_ffts = dict(sorted(dict_avg_ffts.items()))\n",
    "plot_dict_spectra_logscale(dict_avg_ffts)"
   ]
  },
  {
   "cell_type": "markdown",
   "id": "7aa9c975",
   "metadata": {},
   "source": [
    "- mask around dc gain\n"
   ]
  },
  {
   "cell_type": "code",
   "execution_count": null,
   "id": "4bce33a2",
   "metadata": {},
   "outputs": [],
   "source": [
    "left_stride = 3\n",
    "right_stride = 2 #in unit of freq_u\n",
    "center = int(np.ceil(256 / 2))\n",
    "\n",
    "def set_zero_around_center(fft: np.ndarray, window_size: int=5):\n",
    "    from copy import deepcopy\n",
    "    fft_copy = deepcopy(fft)\n",
    "    height, width = fft.shape\n",
    "    center_y, center_x = int(np.ceil(height / 2)), int(np.ceil(width / 2))\n",
    "    left = int(np.ceil(window_size / 2))\n",
    "    right = window_size - left\n",
    "               \n",
    "    fft_copy[center_y - left:center_y + right, center_x-left:center_y+right] = 0.\n",
    "    return fft_copy\n",
    "\n",
    "\n",
    "    \n",
    "    "
   ]
  },
  {
   "cell_type": "code",
   "execution_count": null,
   "id": "11c59963",
   "metadata": {},
   "outputs": [],
   "source": [
    "# freq's around zero are remove\n",
    "# plot in logscale\n",
    "\n",
    "# show_dict_of_arrs(dict_abs_diff_ffts,\n",
    "#                   transform=lambda fft: to_logscale(\n",
    "#                                           set_zero_around_center(fft, window_size=3)\n",
    "#                                         )\n",
    "#                  );\n",
    "# joblib.dump(dict_abs_diff_ffts, \"./dict-abs-diff-ffts-my-all-pass.pkl\")"
   ]
  },
  {
   "cell_type": "code",
   "execution_count": null,
   "id": "1b18da71",
   "metadata": {},
   "outputs": [],
   "source": [
    "import toolz"
   ]
  },
  {
   "cell_type": "code",
   "execution_count": null,
   "id": "e30877a4",
   "metadata": {},
   "outputs": [],
   "source": [
    "# apply it to a dictionary\n",
    "dict_avg_ffts_no_dcgain = toolz.valmap(\n",
    "    partial(set_zero_around_center, window_size=51),\n",
    "    dict_avg_ffts\n",
    ")"
   ]
  },
  {
   "cell_type": "code",
   "execution_count": null,
   "id": "fc110238",
   "metadata": {},
   "outputs": [],
   "source": [
    "# show in logscale\n",
    "dict_to_show = dict_avg_ffts_no_dcgain\n",
    "\n",
    "# cmap = 'gray'\n",
    "cmap=cm.rainbow\n",
    "vmin, vmax = get_positive_min_max(dict_to_show)\n",
    "normalizer = colors.LogNorm(\n",
    "    vmin=vmin,\n",
    "    vmax=vmax,\n",
    "    clip=False #shouldn't matter whether set to t/f\n",
    ")\n",
    "print('vmin, vmax: ', normalizer.vmin, normalizer.vmax)\n",
    "print('vmin, vmax are set? :', normalizer.scaled())\n",
    "\n",
    "\n",
    "show_dict_with_colorbar(dict_to_show, normalizer=normalizer, cmap=cmap,\n",
    "                       show_colorbar_every=1);"
   ]
  },
  {
   "cell_type": "markdown",
   "id": "320540bd",
   "metadata": {},
   "source": [
    "## Now compute the abs-diff of these ffts:\n",
    "\n",
    "- Load precomputed `dict_avg_ffts.pkl` \n",
    "- Compute `dict_abs_diff_ffts`; save as pkl file\n",
    "- Visualize `dict_abs_diff_ffts` in logscale; save as png file"
   ]
  },
  {
   "cell_type": "markdown",
   "id": "ae6faf2c",
   "metadata": {},
   "source": [
    "### Helpers"
   ]
  },
  {
   "cell_type": "code",
   "execution_count": null,
   "id": "44341227",
   "metadata": {},
   "outputs": [],
   "source": [
    "# load helper\n",
    "def load_ffts(fft_dir_root:Path, common_fn: str):\n",
    "    \"\"\"Load individual GM's avg_fft into a dict of avg_ffts\n",
    "    \"\"\"\n",
    "    d_ffts = {} \n",
    "    for model_dir in fft_dir_root.iterdir():\n",
    "        if str(model_dir).startswith('.') or model_dir.is_file():\n",
    "            continue\n",
    "        \n",
    "        model_name = model_dir.name\n",
    "        d_ffts[model_name] = joblib.load(model_dir/ common_fn)\n",
    "        \n",
    "    return dict(sorted(d_ffts.items()))\n",
    "\n",
    "def test_load_ffts():\n",
    "    fft_dir_root = Path('/docker/data/GM256_avgfft_allpass/20230326-004747')\n",
    "    common_fn = \"avg-fft-allpass_n=50000_20230326171210.pkl\"\n",
    "    return load_ffts(fft_dir_root, common_fn)\n",
    "        \n",
    "                    "
   ]
  },
  {
   "cell_type": "code",
   "execution_count": null,
   "id": "70401ffc",
   "metadata": {},
   "outputs": [],
   "source": [
    "from cytoolz import valmap, keymap"
   ]
  },
  {
   "cell_type": "code",
   "execution_count": null,
   "id": "6b933be2",
   "metadata": {},
   "outputs": [],
   "source": [
    "# Helpers: compute abs-diff\n",
    "def compute_abs_diff(arr1: np.ndarray, arr2: np.ndarray) -> np.ndarray:  #Tuple[np.ndarray, float]:\n",
    "    abs_diff = np.abs(arr1-arr2)\n",
    "#     l2_dist = np.sum(abs_diff ** 2)\n",
    "    return abs_diff \n",
    "\n",
    "def compute_dict_abs_diff_vals(d: Dict[str,np.ndarray], \n",
    "                               key_of_ref_val: str) -> Dict[str, np.ndarray]:\n",
    "    \"\"\"computes abs-diff of each val in the dict w.r.t. dict[key_of_ref_val],\n",
    "    and return the dictionary of abs-diff-vals\n",
    "    \"\"\"\n",
    "    d = dict(sorted(d.items()))\n",
    "    print(d.keys())\n",
    "    ref_val = d[key_of_ref_val]\n",
    "    return valmap(partial(compute_abs_diff, arr2=ref_val),\n",
    "                          d)"
   ]
  },
  {
   "cell_type": "code",
   "execution_count": null,
   "id": "f1de8a82",
   "metadata": {},
   "outputs": [],
   "source": [
    "# Helpers: plot spectrums in logscale\n",
    "from reprlearn.visualize.utils import show_dict_with_colorbar\n",
    "\n",
    "def get_positive_min_max(d: Dict) -> Tuple[float, float]:\n",
    "    vals = np.array(list(d.values()))\n",
    "    vals = np.ma.masked_less_equal(vals, 0, copy=False)\n",
    "    \n",
    "#     print('d: ', d)\n",
    "#     print('vals: ', vals)\n",
    "    return vals.min(), vals.max()\n",
    "                    "
   ]
  },
  {
   "cell_type": "code",
   "execution_count": null,
   "id": "a2ec0d37",
   "metadata": {},
   "outputs": [],
   "source": [
    "def plot_dict_spectra_logscale(dict_to_show, cmap=None):\n",
    "    from matplotlib import colors\n",
    "    vmin, vmax = get_positive_min_max(dict_to_show)\n",
    "    normalizer = colors.LogNorm(\n",
    "        vmin=vmin,\n",
    "        vmax=vmax,\n",
    "        clip=False #shouldn't matter whether set to t/f\n",
    "    )\n",
    "    print('vmin, vmax: ', normalizer.vmin, normalizer.vmax)\n",
    "    print('vmin, vmax are set? :', normalizer.scaled())\n",
    "\n",
    "\n",
    "    show_dict_with_colorbar(dict_to_show, normalizer=normalizer, cmap=cmap);"
   ]
  },
  {
   "cell_type": "markdown",
   "id": "6a9e7323",
   "metadata": {},
   "source": [
    "### Load precomputed avg-ffts into a dict"
   ]
  },
  {
   "cell_type": "code",
   "execution_count": null,
   "id": "33e6e4e6",
   "metadata": {},
   "outputs": [],
   "source": [
    "filter_type = 'highpass' # 'allpass' 'lowpass'\n",
    "ks = 3\n",
    "n_samples = 50000\n",
    "run_id = 20230326014156\n",
    "fft_dir = Path(f'/docker/data/GM256_avgfft_{filter_type}/20230326-004747')\n",
    "# fn_dict_avg_ffts_pkl = f\"dict-avg-ffts-{filter_type}-ks={ks}-n={n_samples}-{run_id}.pkl\"\n",
    "# fn_dict_avg_ffts_png = f\"dict-avg-ffts-{filter_type}-ks={ks}-n={n_samples}-{run_id}.png\"\n",
    "\n",
    "#allpass\n",
    "dict_avg_ffts_ap = load_ffts(\n",
    "    fft_dir_root=Path('/docker/data/GM256_avgfft_allpass/20230326-004747'),\n",
    "    common_fn = \"avg-fft-allpass_n=50000_20230326171210.pkl\"\n",
    ")\n",
    "\n",
    "#highpass (ks=3)\n",
    "# todo:\n",
    "pkl_fn ='dict-avg-ffts-highpass-ks=3-n=50000-20230326014156.pkl'\n",
    "dict_avg_fft_hp = joblib.load(fft_dir / pkl_fn)\n",
    "\n",
    "\n",
    "#lowpass(ks=3 or ks=11)\n",
    "# fn = todo\n",
    "# dict_avg_ffts = joblib.load(fft_dir / fn)\n",
    "# or:\n",
    "dict_avg_ffts_lp = load_ffts(\n",
    "    fft_dir_root=Path('/docker/data/GM256_avgfft_lowpass/20230326-004747'),\n",
    "    common_fn='avg-fft-lowpass_ks=3_n=50000_20230326171058.pkl',\n",
    ")\n",
    "\n",
    "    \n",
    "    \n"
   ]
  },
  {
   "cell_type": "markdown",
   "id": "f0aa0d13",
   "metadata": {},
   "source": [
    "- compute abs-diff-ffts"
   ]
  },
  {
   "cell_type": "code",
   "execution_count": null,
   "id": "bba2a67d",
   "metadata": {},
   "outputs": [],
   "source": [
    "#allpass\n",
    "dict_abs_diff_ffts_ap = compute_dict_abs_diff_vals(dict_avg_ffts_ap, \n",
    "                                                key_of_ref_val=\"real-celebahq256\")\n",
    "#todo: write to file\n",
    "\n",
    "\n",
    "#highpass\n",
    "dict_abs_diff_ffts_hp = compute_dict_abs_diff_vals(dict_avg_ffts, \n",
    "                                                key_of_ref_val=\"real-celebahq256\")\n",
    "#todo: write to file\n",
    "\n",
    "#lowpass\n",
    "dict_abs_diff_ffts_lp = compute_dict_abs_diff_vals(dict_avg_ffts_lp, \n",
    "                                                key_of_ref_val=\"real-celebahq256\")\n",
    "#todo: write to file"
   ]
  },
  {
   "cell_type": "markdown",
   "id": "1b8f5661",
   "metadata": {},
   "source": [
    "- plot the abs-diff spectra in logscale"
   ]
  },
  {
   "cell_type": "code",
   "execution_count": null,
   "id": "0d414ba2",
   "metadata": {},
   "outputs": [],
   "source": [
    "dicts = {\n",
    "    'allpass': dict_abs_diff_ffts_ap,\n",
    "#     'highpass': dict_abs_diff_ffts_hp,\n",
    "    'lowpass': dict_abs_diff_ffts_lp\n",
    "}\n",
    "    \n",
    "for filter_type, dict_to_show in dicts.items():\n",
    "    plot_dict_spectra_logscale(dict_to_show, title=f\"abs-diff: {filter_type}\")"
   ]
  },
  {
   "cell_type": "code",
   "execution_count": null,
   "id": "0e8490d6",
   "metadata": {},
   "outputs": [],
   "source": [
    "def to_fullname(model_name:str) -> str:\n",
    "    \"\"\"map model_name to model_fullname,\n",
    "    e.g., stylegan2 -> gan-stylegan2\n",
    "          alae -> vae-alae\n",
    "    \"\"\"\n",
    "    namemap = {'ddgan': 'gan-ddgan',\n",
    "               'stylegan2': 'gan-stylegan2',\n",
    "               'styleswin': 'gan-styleswin',\n",
    "               'vqgan': 'gan-vqgan',\n",
    "               'celebahq256': 'real-celebahq256',\n",
    "               'ddpm': 'score-ddpm',\n",
    "               'ldm': 'score-ldm',\n",
    "               'lsgm': 'score-lsgm',\n",
    "               'ncsnpp': 'score-ncsnpp',\n",
    "               'rve': 'score-rve',\n",
    "               'alae': 'vae-alae',\n",
    "               'effvdvae': 'vae-effvdvae',\n",
    "               'nvae': 'vae-nvae',\n",
    "               'vaebm': 'vae-vaebm'\n",
    "              }\n",
    "    return namemap.get(model_name, model_name)\n",
    "               \n",
    "               "
   ]
  },
  {
   "cell_type": "code",
   "execution_count": null,
   "id": "8b507331",
   "metadata": {},
   "outputs": [],
   "source": [
    "dict_abs_diff_ffts = keymap(to_fullname, dict_abs_diff_ffts)\n",
    "# sort by keynames\n",
    "dict_abs_diff_ffts = dict(sorted( dict_abs_diff_ffts.items() ))\n",
    "print('keys renamed: ', dict_abs_diff_ffts.keys())"
   ]
  },
  {
   "cell_type": "code",
   "execution_count": null,
   "id": "b84caff7",
   "metadata": {},
   "outputs": [],
   "source": [
    "plot_dict_spectra_logscale(dict_abs_diff_ffts)"
   ]
  },
  {
   "cell_type": "markdown",
   "id": "65e76fb5",
   "metadata": {
    "heading_collapsed": "true"
   },
   "source": [
    "##### Resources:\n",
    "- https://stackoverflow.com/questions/73510185/how-to-add-colorbar-in-matplotlib\n",
    "- https://stackoverflow.com/questions/13784201/how-to-have-one-colorbar-for-all-subplots\n"
   ]
  },
  {
   "cell_type": "code",
   "execution_count": null,
   "id": "5ed98933",
   "metadata": {},
   "outputs": [],
   "source": [
    "from matplotlib import cm, colors"
   ]
  },
  {
   "cell_type": "code",
   "execution_count": null,
   "id": "a4690860",
   "metadata": {},
   "outputs": [],
   "source": [
    "# Demo1: Normalize (linear) \n",
    "# At init, vmin and vmax are not set yet:\n",
    "normalizer = colors.Normalize(\n",
    "    vmin=None,\n",
    "    vmax=None,\n",
    "    clip=False\n",
    ")\n",
    "print('vmin, vmax: ', normalizer.vmin, normalizer.vmax)\n",
    "print('vmin, vmax are set? :', normalizer.scaled())\n",
    "\n",
    "# at first normalization call using this class, its vmin and vmax will be set\n",
    "# to the min and max of the input arr __call__ was called:\n",
    "arr = [-2., -1., 0., 1., 2.]\n",
    "normed_arr = normalizer(arr)\n",
    "print('vmin, vmax: ', normalizer.vmin, normalizer.vmax)\n",
    "print('vmin, vmax are set? :', normalizer.scaled())\n",
    "assert normalizer.vmin == min(arr) and normalizer.vmax == max(arr)\n",
    "\n",
    "print('arr: ', arr)\n",
    "print('normed_arr: ', normed_arr)"
   ]
  },
  {
   "cell_type": "code",
   "execution_count": null,
   "id": "8bde545e",
   "metadata": {},
   "outputs": [],
   "source": [
    "# Demo2: Normalize (linear) \n",
    "# At init, vmin and vmax are specified by user.\n",
    "# w/ clip=False\n",
    "normalizer = colors.Normalize(\n",
    "    vmin=-1,\n",
    "    vmax=1,\n",
    "    clip=False\n",
    ")\n",
    "print('vmin, vmax: ', normalizer.vmin, normalizer.vmax)\n",
    "print('vmin, vmax are set? :', normalizer.scaled())\n",
    "\n",
    "# at first normalization call using this class, its vmin and vmax will be set\n",
    "# to the min and max of the input arr __call__ was called:\n",
    "arr = [-2., -1., 0., 1., 2.]\n",
    "normed_arr = normalizer(arr)\n",
    "print('vmin, vmax: ', normalizer.vmin, normalizer.vmax)\n",
    "print('vmin, vmax are set? :', normalizer.scaled())\n",
    "\n",
    "print('arr: ', arr)\n",
    "print('normed_arr: ', normed_arr)\n",
    "print(\"Note that if clip=False, then the normalizer does not enforce clipping on the normed values \"\n",
    "      \"to [0.,1.]: ie., if normed value is out of range [0,1], it just gives out those values. \")"
   ]
  },
  {
   "cell_type": "code",
   "execution_count": null,
   "id": "d5c70e2a",
   "metadata": {},
   "outputs": [],
   "source": [
    "# Demo3: Normalize (linear) \n",
    "# At init, vmin and vmax are specified by user.\n",
    "# w/ clip=True\n",
    "normalizer = colors.Normalize(\n",
    "    vmin=-1,\n",
    "    vmax=1,\n",
    "    clip=True\n",
    ")\n",
    "print('vmin, vmax: ', normalizer.vmin, normalizer.vmax)\n",
    "print('vmin, vmax are set? :', normalizer.scaled())\n",
    "\n",
    "# at first normalization call using this class, its vmin and vmax will be set\n",
    "# to the min and max of the input arr __call__ was called:\n",
    "arr = [-2., -1., 0., 1., 2.]\n",
    "normed_arr = normalizer(arr)\n",
    "print('vmin, vmax: ', normalizer.vmin, normalizer.vmax)\n",
    "print('vmin, vmax are set? :', normalizer.scaled())\n",
    "\n",
    "print('arr: ', arr)\n",
    "print('normed_arr: ', normed_arr)"
   ]
  },
  {
   "cell_type": "code",
   "execution_count": null,
   "id": "a37e9778",
   "metadata": {},
   "outputs": [],
   "source": [
    "# Demo4-a: LogNorm\n",
    "# At init, vmin and vmax are not specified.\n",
    "# w/ clip=False\n",
    "normalizer = colors.LogNorm(\n",
    "    vmin=None,\n",
    "    vmax=None,\n",
    "    clip=False\n",
    ")\n",
    "print('vmin, vmax: ', normalizer.vmin, normalizer.vmax)\n",
    "print('vmin, vmax are set? :', normalizer.scaled())\n",
    "\n",
    "# at first normalization call using this class, its vmin and vmax will be set\n",
    "# to the min and max of the input arr __call__ was called:\n",
    "arr = [-2., -1., 0., 1., 2.]\n",
    "normed_arr = normalizer(arr)\n",
    "print('vmin, vmax: ', normalizer.vmin, normalizer.vmax) #0,2?\n",
    "print('vmin, vmax are set? :', normalizer.scaled())\n",
    "\n",
    "print()\n",
    "print('arr: ', arr)\n",
    "print('normed_arr: ', normed_arr)"
   ]
  },
  {
   "cell_type": "code",
   "execution_count": null,
   "id": "fad7667d",
   "metadata": {},
   "outputs": [],
   "source": [
    "# Demo4-b: LogNorm\n",
    "# At init, vmin and vmax are not specified.\n",
    "# w/ clip=False\n",
    "normalizer = colors.LogNorm(\n",
    "    vmin=None,\n",
    "    vmax=None,\n",
    "    clip=False\n",
    ")\n",
    "print('vmin, vmax: ', normalizer.vmin, normalizer.vmax)\n",
    "print('vmin, vmax are set? :', normalizer.scaled())\n",
    "print('---')\n",
    "\n",
    "# arr = [-10., -1., 0., 1, 10., 100., 1000]\n",
    "arr = [-10., -1., 0., 0.001, 1, 10., 100., 1000]\n",
    "# arr = [-10., -1., 0., 1, 10., 100., 1000]\n",
    "normed_arr = normalizer(arr)\n",
    "print('vmin, vmax: ', normalizer.vmin, normalizer.vmax) #0,1000?\n",
    "print('vmin, vmax are set? :', normalizer.scaled())\n",
    "print('---')\n",
    "\n",
    "print('arr: ', arr)\n",
    "print('normed_arr: ', normed_arr)"
   ]
  },
  {
   "cell_type": "code",
   "execution_count": null,
   "id": "3530f727",
   "metadata": {},
   "outputs": [],
   "source": [
    "### Demo 5: LogNorm\n",
    "# At init, vmin and vmax are not specified.\n",
    "# w/ clip=False\n",
    "# Note: vmin and vmax properties of a Normalize object is set either at init time\n",
    "#      or at the first __call__ time. \n",
    "# In particular, any subsequent __call__ (with diff. data array to normalize)\n",
    "#     does not change the vmin and vmax values.\n",
    "\n",
    "normalizer = colors.LogNorm(\n",
    "    vmin=None,\n",
    "    vmax=None,\n",
    "    clip=False\n",
    ")\n",
    "print('vmin, vmax: ', normalizer.vmin, normalizer.vmax)\n",
    "print('vmin, vmax are set? :', normalizer.scaled())\n",
    "\n",
    "# at first normalization call using this class, its vmin and vmax will be set\n",
    "# to the min and max of the input arr __call__ was called:\n",
    "arr = [-2., -1., 0., 1., 2.]\n",
    "normed_arr = normalizer(arr)\n",
    "print('vmin, vmax: ', normalizer.vmin, normalizer.vmax) #0,2?\n",
    "print('vmin, vmax are set? :', normalizer.scaled())\n",
    "\n",
    "print('arr: ', arr)\n",
    "print('normed_arr: ', normed_arr)\n",
    "\n",
    "\n",
    "print('===')\n",
    "print(\"Note: Normalize object's vmin and vmax are set either at init time or at the first call. \"\n",
    "      \"-- ie, any subsequent __call__ does not change vmin and vmax!! \")\n",
    "\n",
    "arr = [-10., -1., 0., 10., 100., 1000]\n",
    "normed_arr = normalizer(arr)\n",
    "print('vmin, vmax: ', normalizer.vmin, normalizer.vmax) #0,1000?\n",
    "print('vmin, vmax are set? :', normalizer.scaled())\n",
    "\n",
    "print('arr: ', arr)\n",
    "print('normed_arr: ', normed_arr)\n"
   ]
  },
  {
   "cell_type": "code",
   "execution_count": null,
   "id": "f9276207",
   "metadata": {},
   "outputs": [],
   "source": [
    "arr\n",
    "masked = np.ma.masked_less_equal(arr, value=0, copy=True)\n",
    "print(arr,masked)"
   ]
  },
  {
   "cell_type": "code",
   "execution_count": null,
   "id": "16ef495e",
   "metadata": {},
   "outputs": [],
   "source": [
    "min(arr), min(masked), masked.min()"
   ]
  },
  {
   "cell_type": "markdown",
   "id": "61bf6334",
   "metadata": {
    "heading_collapsed": "true"
   },
   "source": [
    "### use LogNorm to set a consistent mapping from data values in all npimgs \n"
   ]
  },
  {
   "cell_type": "code",
   "execution_count": null,
   "id": "dab6ae37",
   "metadata": {},
   "outputs": [],
   "source": [
    "# show_dict_of_arrs(dict_abs_diff_ffts,\n",
    "#                   transform=lambda fft: to_logscale(\n",
    "#                                           set_zero_around_center(fft, window_size=3)\n",
    "#                                         )\n",
    "#                  );"
   ]
  },
  {
   "cell_type": "code",
   "execution_count": null,
   "id": "05d5e3da",
   "metadata": {},
   "outputs": [],
   "source": [
    "# same key:value mapping, but sorted by key value's alphabetical order\n",
    "sorted_dict = dict(sorted(dict_abs_diff_ffts.items()))\n",
    "# -- verify\n",
    "show_dict_of_arrs(sorted_dict,\n",
    "                  transform=lambda fft: to_logscale(\n",
    "                                          set_zero_around_center(fft, window_size=3)\n",
    "                                        )\n",
    "                 );\n",
    "\n"
   ]
  },
  {
   "cell_type": "code",
   "execution_count": null,
   "id": "36ab29b2",
   "metadata": {},
   "outputs": [],
   "source": [
    "# sort dictionary by its key values' alphabetic order\n",
    "dict_abs_diff_ffts = dict(sorted(dict_abs_diff_ffts.items()))\n"
   ]
  },
  {
   "cell_type": "code",
   "execution_count": null,
   "id": "efd47856",
   "metadata": {},
   "outputs": [],
   "source": [
    "arrs = []\n",
    "model_names = []\n",
    "for model_name, arr in dict_abs_diff_ffts.items():\n",
    "    arrs.append(arr)\n",
    "    model_names.append(model_name)\n",
    "arrs = np.array(arrs)\n",
    "model_names = np.array(model_names)"
   ]
  },
  {
   "cell_type": "code",
   "execution_count": null,
   "id": "67f02c85",
   "metadata": {},
   "outputs": [],
   "source": [
    "len(arrs), len(model_names)"
   ]
  },
  {
   "cell_type": "code",
   "execution_count": null,
   "id": "efccf0a8",
   "metadata": {},
   "outputs": [],
   "source": [
    "vmin, vmax = arrs.min(), arrs.max()\n",
    "print('vmin, vmax of abs-diff ffts: ', vmin, vmax)"
   ]
  },
  {
   "cell_type": "code",
   "execution_count": null,
   "id": "2e63bb36",
   "metadata": {},
   "outputs": [],
   "source": [
    "import seaborn as sns"
   ]
  },
  {
   "cell_type": "code",
   "execution_count": null,
   "id": "42a2518a",
   "metadata": {},
   "outputs": [],
   "source": [
    "sns.histplot(arrs.flatten(), bins=50)\n"
   ]
  },
  {
   "cell_type": "code",
   "execution_count": null,
   "id": "88153bc0",
   "metadata": {},
   "outputs": [],
   "source": [
    "y = 10\n",
    "x = arrs.flatten()\n",
    "for arr, model_name in dict_abs_diff_ffts.items():\n",
    "    \n",
    "sns.scatterplot(x=x, y=y)\n"
   ]
  },
  {
   "cell_type": "code",
   "execution_count": null,
   "id": "87f30dd6",
   "metadata": {},
   "outputs": [],
   "source": [
    "df_abs_diff_fft = pd.DataFrame(columns=['fam_name', 'model_name', 'abs_diff_fft'])"
   ]
  },
  {
   "cell_type": "code",
   "execution_count": null,
   "id": "d56825e9",
   "metadata": {},
   "outputs": [],
   "source": [
    "df_abs_diff_fft['model_name'] = list(dict_abs_diff_ffts.keys())\n",
    "df_abs_diff_fft['abs_diff_fft'] = list(dict_abs_diff_ffts.values())\n",
    "df_abs_diff_fft.head()"
   ]
  },
  {
   "cell_type": "code",
   "execution_count": null,
   "id": "88786374",
   "metadata": {},
   "outputs": [],
   "source": [
    "df_abs_diff_fft['fam_name'] = df_abs_diff_fft['model_name'].apply(lambda x: x.split('-')[0])"
   ]
  },
  {
   "cell_type": "code",
   "execution_count": null,
   "id": "d62947f4",
   "metadata": {},
   "outputs": [],
   "source": [
    "df_abs_diff_fft.head()\n"
   ]
  },
  {
   "cell_type": "code",
   "execution_count": null,
   "id": "f8c71075",
   "metadata": {},
   "outputs": [],
   "source": [
    "n_models = len(dict_abs_diff_ffts.keys())\n",
    "colors = cm.rainbow(np.linspace(0,1,n_models))\n",
    "\n",
    "fig, ax  = plt.subplots()\n",
    "for arr, c in zip(dict_abs_diff_ffts.values(), colors):\n",
    "    y = [10]*arr.size #number of elements in arr \n",
    "    ax.scatter(x=arr.flat,y=y, color=c, cmap=colors)\n",
    "\n",
    "# to visualize the colormap:\n",
    "# Indices to step through colormap\n",
    "x = np.linspace(0.0, 1.0, 100)\n",
    "fig_color, ax_color = plt.subplots()\n"
   ]
  }
 ],
 "metadata": {
  "kernelspec": {
   "display_name": "Python [conda env:test]",
   "language": "python",
   "name": "conda-env-test-py"
  },
  "language_info": {
   "codemirror_mode": {
    "name": "ipython",
    "version": 3
   },
   "file_extension": ".py",
   "mimetype": "text/x-python",
   "name": "python",
   "nbconvert_exporter": "python",
   "pygments_lexer": "ipython3",
   "version": "3.8.12"
  }
 },
 "nbformat": 4,
 "nbformat_minor": 5
}
